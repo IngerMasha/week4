{
  "nbformat": 4,
  "nbformat_minor": 0,
  "metadata": {
    "colab": {
      "provenance": [],
      "authorship_tag": "ABX9TyPD5gM8H4B2N6eZq7cJFNeu",
      "include_colab_link": true
    },
    "kernelspec": {
      "name": "python3",
      "display_name": "Python 3"
    },
    "language_info": {
      "name": "python"
    }
  },
  "cells": [
    {
      "cell_type": "markdown",
      "metadata": {
        "id": "view-in-github",
        "colab_type": "text"
      },
      "source": [
        "<a href=\"https://colab.research.google.com/github/IngerMasha/week4/blob/master/day4/Daily_challenge_Text_Analysis.ipynb\" target=\"_parent\"><img src=\"https://colab.research.google.com/assets/colab-badge.svg\" alt=\"Open In Colab\"/></a>"
      ]
    },
    {
      "cell_type": "code",
      "execution_count": 1,
      "metadata": {
        "colab": {
          "base_uri": "https://localhost:8080/"
        },
        "id": "25yVRrJCRTaV",
        "outputId": "28ee8525-7830-42e9-eca4-3f5be93ba2e3"
      },
      "outputs": [
        {
          "output_type": "stream",
          "name": "stdout",
          "text": [
            "Frequency of 'good': 2\n",
            "Most common word: good\n",
            "Unique words: ['book', 'as', 'cost', 'A', 'good', 'sometimes', 'much', 'house.', 'a', 'would']\n"
          ]
        }
      ],
      "source": [
        "class Text:\n",
        "    def __init__(self, text):\n",
        "        self.text = text\n",
        "\n",
        "    def word_frequency(self, word):\n",
        "        words = self.text.split()\n",
        "        frequency = words.count(word)\n",
        "        if frequency == 0:\n",
        "            return f\"The word '{word}' is not found in the text.\"\n",
        "        return frequency\n",
        "\n",
        "    def most_common_word(self):\n",
        "        words = self.text.split()\n",
        "        word_freq = {}\n",
        "        for word in words:\n",
        "            word_freq[word] = word_freq.get(word, 0) + 1\n",
        "        most_common = max(word_freq, key=word_freq.get)\n",
        "        return most_common\n",
        "\n",
        "    def unique_words(self):\n",
        "        words = self.text.split()\n",
        "        unique = set(words)\n",
        "        return list(unique)\n",
        "\n",
        "text = Text(\"A good book would sometimes cost as much as a good house.\")\n",
        "print(\"Frequency of 'good':\", text.word_frequency('good'))  # Output: 2\n",
        "print(\"Most common word:\", text.most_common_word())  # Output: \"a\" or \"as\" depending on the split behavior\n",
        "print(\"Unique words:\", text.unique_words())  # Output: List of unique words\n"
      ]
    },
    {
      "cell_type": "code",
      "source": [
        "class Text:\n",
        "    def __init__(self, text):\n",
        "        self.text = text\n",
        "\n",
        "    def word_frequency(self, word):\n",
        "        words = self.text.split()\n",
        "        frequency = words.count(word)\n",
        "        if frequency == 0:\n",
        "            return f\"The word '{word}' is not found in the text.\"\n",
        "        return frequency\n",
        "\n",
        "    def most_common_word(self):\n",
        "        words = self.text.split()\n",
        "        word_freq = {}\n",
        "        for word in words:\n",
        "            word_freq[word] = word_freq.get(word, 0) + 1\n",
        "        most_common = max(word_freq, key=word_freq.get)\n",
        "        return most_common\n",
        "\n",
        "    def unique_words(self):\n",
        "        words = self.text.split()\n",
        "        unique = set(words)\n",
        "        return list(unique)\n",
        "\n",
        "    @classmethod\n",
        "    def from_file(cls, filename):\n",
        "        with open(filename, 'r') as file:\n",
        "            text = file.read()\n",
        "        return cls(text)\n",
        "\n",
        "text_from_file = Text.from_file('/content/the_stranger.txt')\n",
        "print(\"Most common word in the file:\", text_from_file.most_common_word())\n",
        "print(\"Unique words in the file:\", text_from_file.unique_words()[:10])\n"
      ],
      "metadata": {
        "colab": {
          "base_uri": "https://localhost:8080/"
        },
        "id": "zaeTYnNDRmWR",
        "outputId": "7118a97f-d8b8-47fb-dacc-055aef646617"
      },
      "execution_count": 3,
      "outputs": [
        {
          "output_type": "stream",
          "name": "stdout",
          "text": [
            "Most common word in the file: the\n",
            "Unique words in the file: ['hurt', 'basic', 'strike', 'focus', 'presented', 'feathery', 'remind', 'something,', 'witnesses.', 'them.']\n"
          ]
        }
      ]
    }
  ]
}