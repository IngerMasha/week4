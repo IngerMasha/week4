{
  "nbformat": 4,
  "nbformat_minor": 0,
  "metadata": {
    "colab": {
      "provenance": [],
      "authorship_tag": "ABX9TyM0FyKoHDFwGPYs11yKoYXm",
      "include_colab_link": true
    },
    "kernelspec": {
      "name": "python3",
      "display_name": "Python 3"
    },
    "language_info": {
      "name": "python"
    }
  },
  "cells": [
    {
      "cell_type": "markdown",
      "metadata": {
        "id": "view-in-github",
        "colab_type": "text"
      },
      "source": [
        "<a href=\"https://colab.research.google.com/github/IngerMasha/week4/blob/master/day4/Exercises_XP_Ninja.ipynb\" target=\"_parent\"><img src=\"https://colab.research.google.com/assets/colab-badge.svg\" alt=\"Open In Colab\"/></a>"
      ]
    },
    {
      "cell_type": "code",
      "execution_count": null,
      "metadata": {
        "id": "yA94WBTibR12"
      },
      "outputs": [],
      "source": [
        "import json\n",
        "import re\n",
        "\n",
        "file_path = 'valentines_menu.json'\n",
        "\n",
        "def initialize_file():\n",
        "    data = {'valentines_items': []}\n",
        "    with open(file_path, 'w') as file:\n",
        "        json.dump(data, file)\n",
        "\n",
        "def validate_item_name(name):\n",
        "    pattern = r'^V[A-Z][a-z]*( [a-z]+)?([A-Z][a-z]*)*'\n",
        "    if not re.fullmatch(pattern, name):\n",
        "        return False\n",
        "\n",
        "    if not (name.count('e') >= 2 and not re.search(r'\\d', name)):\n",
        "        return False\n",
        "\n",
        "    return True\n",
        "\n",
        "def validate_price(price):\n",
        "    pattern = r'^\\d{2},14$'\n",
        "    return bool(re.fullmatch(pattern, price))\n",
        "\n",
        "def add_item(name, price):\n",
        "    if not validate_item_name(name):\n",
        "        print(\n",
        "            \"Invalid item name. It must start with 'V' and follow capitalization rules, and contain at least two 'e's with no numbers.\")\n",
        "        return\n",
        "    if not validate_price(price):\n",
        "        print(\"Invalid price format. It must be in the format XX,14.\")\n",
        "        return\n",
        "\n",
        "    with open(file_path, 'r+') as file:\n",
        "        data = json.load(file)\n",
        "        data['valentines_items'].append({'name': name, 'price': price})\n",
        "        file.seek(0)\n",
        "        json.dump(data, file, indent=4)\n",
        "        file.truncate()\n",
        "\n",
        "def display_heart():\n",
        "    heart_pattern = [\n",
        "        \"  ***   ***  \",\n",
        "        \" ***** ***** \",\n",
        "        \" *********** \",\n",
        "        \"  *********  \",\n",
        "        \"   *******   \",\n",
        "        \"    *****    \",\n",
        "        \"     ***     \",\n",
        "        \"      *      \"\n",
        "    ]\n",
        "    for line in heart_pattern:\n",
        "        print(line)\n",
        "\n",
        "item_name = input(\"Enter a new Valentine's item name: \")\n",
        "item_price = input(\"Enter the price in format XX,14: \")\n",
        "add_item(item_name, item_price)\n",
        "\n",
        "display_heart()\n"
      ]
    },
    {
      "cell_type": "code",
      "source": [
        "import random\n",
        "import json\n",
        "\n",
        "class Character:\n",
        "    def __init__(self, name, age):\n",
        "        self.name = name\n",
        "        self.age = age\n",
        "        self.attributes = self.roll_attributes()\n",
        "\n",
        "    def roll_attributes(self):\n",
        "        attributes = {}\n",
        "        for attr in ['Strength', 'Dexterity', 'Constitution', 'Intelligence', 'Wisdom', 'Charisma']:\n",
        "            rolls = [random.randint(1, 6) for _ in range(4)]\n",
        "            rolls.sort()\n",
        "            attributes[attr] = sum(rolls[-3:])\n",
        "        return attributes\n",
        "\n",
        "    def to_dict(self):\n",
        "        return {\n",
        "            'name': self.name,\n",
        "            'age': self.age,\n",
        "            'attributes': self.attributes\n",
        "        }\n",
        "\n",
        "class Game:\n",
        "    def __init__(self):\n",
        "        self.characters = []\n",
        "\n",
        "    def add_character(self):\n",
        "        name = input(\"Enter character name: \")\n",
        "        age = input(\"Enter character age: \")\n",
        "        character = Character(name, age)\n",
        "        self.characters.append(character)\n",
        "\n",
        "    def save_to_txt(self, filename):\n",
        "        with open(filename, 'w') as file:\n",
        "            for char in self.characters:\n",
        "                file.write(f\"Name: {char.name}\\n\")\n",
        "                file.write(f\"Age: {char.age}\\n\")\n",
        "                for attr, value in char.attributes.items():\n",
        "                    file.write(f\"{attr}: {value}\\n\")\n",
        "                file.write(\"\\n\")\n",
        "\n",
        "    def save_to_json(self, filename):\n",
        "        data = [char.to_dict() for char in self.characters]\n",
        "        with open(filename, 'w') as file:\n",
        "            json.dump(data, file, indent=4)\n",
        "\n",
        "def main():\n",
        "    num_players = int(input(\"How many players are playing? \"))\n",
        "    game = Game()\n",
        "\n",
        "    for _ in range(num_players):\n",
        "        game.add_character()\n",
        "\n",
        "    game.save_to_txt('characters.txt')\n",
        "    game.save_to_json('characters.json')\n",
        "\n",
        "if __name__ == \"__main__\":\n",
        "    main()\n"
      ],
      "metadata": {
        "colab": {
          "base_uri": "https://localhost:8080/",
          "height": 321
        },
        "id": "tSkFAIkUb-Er",
        "outputId": "87dafd78-b2b8-4a82-b3a6-3a17f178014b"
      },
      "execution_count": 1,
      "outputs": [
        {
          "output_type": "error",
          "ename": "KeyboardInterrupt",
          "evalue": "Interrupted by user",
          "traceback": [
            "\u001b[0;31m---------------------------------------------------------------------------\u001b[0m",
            "\u001b[0;31mKeyboardInterrupt\u001b[0m                         Traceback (most recent call last)",
            "\u001b[0;32m<ipython-input-1-8fe98485a9b2>\u001b[0m in \u001b[0;36m<cell line: 59>\u001b[0;34m()\u001b[0m\n\u001b[1;32m     58\u001b[0m \u001b[0;34m\u001b[0m\u001b[0m\n\u001b[1;32m     59\u001b[0m \u001b[0;32mif\u001b[0m \u001b[0m__name__\u001b[0m \u001b[0;34m==\u001b[0m \u001b[0;34m\"__main__\"\u001b[0m\u001b[0;34m:\u001b[0m\u001b[0;34m\u001b[0m\u001b[0;34m\u001b[0m\u001b[0m\n\u001b[0;32m---> 60\u001b[0;31m     \u001b[0mmain\u001b[0m\u001b[0;34m(\u001b[0m\u001b[0;34m)\u001b[0m\u001b[0;34m\u001b[0m\u001b[0;34m\u001b[0m\u001b[0m\n\u001b[0m",
            "\u001b[0;32m<ipython-input-1-8fe98485a9b2>\u001b[0m in \u001b[0;36mmain\u001b[0;34m()\u001b[0m\n\u001b[1;32m     48\u001b[0m \u001b[0;34m\u001b[0m\u001b[0m\n\u001b[1;32m     49\u001b[0m \u001b[0;32mdef\u001b[0m \u001b[0mmain\u001b[0m\u001b[0;34m(\u001b[0m\u001b[0;34m)\u001b[0m\u001b[0;34m:\u001b[0m\u001b[0;34m\u001b[0m\u001b[0;34m\u001b[0m\u001b[0m\n\u001b[0;32m---> 50\u001b[0;31m     \u001b[0mnum_players\u001b[0m \u001b[0;34m=\u001b[0m \u001b[0mint\u001b[0m\u001b[0;34m(\u001b[0m\u001b[0minput\u001b[0m\u001b[0;34m(\u001b[0m\u001b[0;34m\"How many players are playing? \"\u001b[0m\u001b[0;34m)\u001b[0m\u001b[0;34m)\u001b[0m\u001b[0;34m\u001b[0m\u001b[0;34m\u001b[0m\u001b[0m\n\u001b[0m\u001b[1;32m     51\u001b[0m     \u001b[0mgame\u001b[0m \u001b[0;34m=\u001b[0m \u001b[0mGame\u001b[0m\u001b[0;34m(\u001b[0m\u001b[0;34m)\u001b[0m\u001b[0;34m\u001b[0m\u001b[0;34m\u001b[0m\u001b[0m\n\u001b[1;32m     52\u001b[0m \u001b[0;34m\u001b[0m\u001b[0m\n",
            "\u001b[0;32m/usr/local/lib/python3.10/dist-packages/ipykernel/kernelbase.py\u001b[0m in \u001b[0;36mraw_input\u001b[0;34m(self, prompt)\u001b[0m\n\u001b[1;32m    849\u001b[0m                 \u001b[0;34m\"raw_input was called, but this frontend does not support input requests.\"\u001b[0m\u001b[0;34m\u001b[0m\u001b[0;34m\u001b[0m\u001b[0m\n\u001b[1;32m    850\u001b[0m             )\n\u001b[0;32m--> 851\u001b[0;31m         return self._input_request(str(prompt),\n\u001b[0m\u001b[1;32m    852\u001b[0m             \u001b[0mself\u001b[0m\u001b[0;34m.\u001b[0m\u001b[0m_parent_ident\u001b[0m\u001b[0;34m,\u001b[0m\u001b[0;34m\u001b[0m\u001b[0;34m\u001b[0m\u001b[0m\n\u001b[1;32m    853\u001b[0m             \u001b[0mself\u001b[0m\u001b[0;34m.\u001b[0m\u001b[0m_parent_header\u001b[0m\u001b[0;34m,\u001b[0m\u001b[0;34m\u001b[0m\u001b[0;34m\u001b[0m\u001b[0m\n",
            "\u001b[0;32m/usr/local/lib/python3.10/dist-packages/ipykernel/kernelbase.py\u001b[0m in \u001b[0;36m_input_request\u001b[0;34m(self, prompt, ident, parent, password)\u001b[0m\n\u001b[1;32m    893\u001b[0m             \u001b[0;32mexcept\u001b[0m \u001b[0mKeyboardInterrupt\u001b[0m\u001b[0;34m:\u001b[0m\u001b[0;34m\u001b[0m\u001b[0;34m\u001b[0m\u001b[0m\n\u001b[1;32m    894\u001b[0m                 \u001b[0;31m# re-raise KeyboardInterrupt, to truncate traceback\u001b[0m\u001b[0;34m\u001b[0m\u001b[0;34m\u001b[0m\u001b[0m\n\u001b[0;32m--> 895\u001b[0;31m                 \u001b[0;32mraise\u001b[0m \u001b[0mKeyboardInterrupt\u001b[0m\u001b[0;34m(\u001b[0m\u001b[0;34m\"Interrupted by user\"\u001b[0m\u001b[0;34m)\u001b[0m \u001b[0;32mfrom\u001b[0m \u001b[0;32mNone\u001b[0m\u001b[0;34m\u001b[0m\u001b[0;34m\u001b[0m\u001b[0m\n\u001b[0m\u001b[1;32m    896\u001b[0m             \u001b[0;32mexcept\u001b[0m \u001b[0mException\u001b[0m \u001b[0;32mas\u001b[0m \u001b[0me\u001b[0m\u001b[0;34m:\u001b[0m\u001b[0;34m\u001b[0m\u001b[0;34m\u001b[0m\u001b[0m\n\u001b[1;32m    897\u001b[0m                 \u001b[0mself\u001b[0m\u001b[0;34m.\u001b[0m\u001b[0mlog\u001b[0m\u001b[0;34m.\u001b[0m\u001b[0mwarning\u001b[0m\u001b[0;34m(\u001b[0m\u001b[0;34m\"Invalid Message:\"\u001b[0m\u001b[0;34m,\u001b[0m \u001b[0mexc_info\u001b[0m\u001b[0;34m=\u001b[0m\u001b[0;32mTrue\u001b[0m\u001b[0;34m)\u001b[0m\u001b[0;34m\u001b[0m\u001b[0;34m\u001b[0m\u001b[0m\n",
            "\u001b[0;31mKeyboardInterrupt\u001b[0m: Interrupted by user"
          ]
        }
      ]
    }
  ]
}